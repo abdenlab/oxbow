{
 "cells": [
  {
   "cell_type": "code",
   "execution_count": 1,
   "id": "b32822b6-4b29-4875-b40b-47cc3ba7079e",
   "metadata": {},
   "outputs": [
    {
     "name": "stdout",
     "output_type": "stream",
     "text": [
      "--2023-05-16 10:00:21--  https://aveit.s3.amazonaws.com/higlass/bam/example_higlass.bam\n",
      "Resolving aveit.s3.amazonaws.com (aveit.s3.amazonaws.com)... 54.231.200.217, 3.5.10.233, 3.5.9.201, ...\n",
      "Connecting to aveit.s3.amazonaws.com (aveit.s3.amazonaws.com)|54.231.200.217|:443... connected.\n",
      "HTTP request sent, awaiting response... 200 OK\n",
      "Length: 4993966 (4.8M) [binary/octet-stream]\n",
      "Saving to: ‘example.bam’\n",
      "\n",
      "example.bam         100%[===================>]   4.76M  2.08MB/s    in 2.3s    \n",
      "\n",
      "2023-05-16 10:00:24 (2.08 MB/s) - ‘example.bam’ saved [4993966/4993966]\n",
      "\n",
      "--2023-05-16 10:00:24--  https://aveit.s3.amazonaws.com/higlass/bam/example_higlass.bam.bai\n",
      "Resolving aveit.s3.amazonaws.com (aveit.s3.amazonaws.com)... 3.5.29.126, 3.5.10.233, 3.5.9.201, ...\n",
      "Connecting to aveit.s3.amazonaws.com (aveit.s3.amazonaws.com)|3.5.29.126|:443... connected.\n",
      "HTTP request sent, awaiting response... 200 OK\n",
      "Length: 28176 (28K) [binary/octet-stream]\n",
      "Saving to: ‘example.bam.bai’\n",
      "\n",
      "example.bam.bai     100%[===================>]  27.52K  --.-KB/s    in 0.03s   \n",
      "\n",
      "2023-05-16 10:00:24 (933 KB/s) - ‘example.bam.bai’ saved [28176/28176]\n",
      "\n"
     ]
    }
   ],
   "source": [
    "!wget https://aveit.s3.amazonaws.com/higlass/bam/example_higlass.bam -O example.bam\n",
    "!wget https://aveit.s3.amazonaws.com/higlass/bam/example_higlass.bam.bai -O example.bam.bai\n",
    "!touch example.bam.bai # ensures no errors from pysam"
   ]
  },
  {
   "cell_type": "code",
   "execution_count": 2,
   "id": "21f1eccc-ec5c-4fc7-9776-025ea3b95459",
   "metadata": {},
   "outputs": [],
   "source": [
    "import pathlib\n",
    "import io\n",
    "\n",
    "import pysam\n",
    "import polars as pl\n",
    "import pyarrow as pa\n",
    "import pandas as pd\n",
    "\n",
    "import oxbow as ox\n",
    "\n",
    "def pysam_run(file: pathlib.Path, chrom: str, start: int, stop: int):\n",
    "    ref_names = []\n",
    "    starts = []\n",
    "    ends = []\n",
    "    names = []\n",
    "    cigars = []\n",
    "    seqs = []\n",
    "    quals = []\n",
    "\n",
    "    bam = pysam.AlignmentFile(str(file), \"rb\")\n",
    "\n",
    "    for read in bam.fetch(chrom, start, stop):\n",
    "        ref_names.append(read.reference_name)\n",
    "        starts.append(read.reference_start)\n",
    "        ends.append(read.reference_end)\n",
    "        names.append(read.query_name)\n",
    "        cigars.append(read.cigarstring)\n",
    "        seqs.append(read.query_sequence)\n",
    "        quals.append(\"\".join(chr(ch + 33) for ch in read.query_qualities))\n",
    "\n",
    "    return pd.DataFrame(\n",
    "        {\n",
    "            \"ref_names\": ref_names,\n",
    "            \"starts\": starts,\n",
    "            \"ends\": ends,\n",
    "            \"names\": names,\n",
    "            \"cigars\": cigars,\n",
    "            \"seqs\": seqs,\n",
    "            \"quals\": quals,\n",
    "        }\n",
    "    ).astype(\n",
    "        {\n",
    "            \"ref_names\": \"category\",\n",
    "        }\n",
    "    )\n",
    "    \n",
    "\n",
    "def oxbow_pandas(file: pathlib.Path, chr: str, start: int, stop: int):\n",
    "    ipc = ox.read_bam(str(file), f\"{chr}:{start}-{stop}\")\n",
    "    df = pa.ipc.open_file(io.BytesIO(ipc)).read_pandas()\n",
    "    return df\n",
    "    \n",
    "\n",
    "def oxbow_polars(file: pathlib.Path, chr: str, start: int, stop: int):\n",
    "    ipc = ox.read_bam(str(file), f\"{chr}:{start}-{stop}\")\n",
    "    df = pl.read_ipc(ipc)\n",
    "    return df"
   ]
  },
  {
   "cell_type": "code",
   "execution_count": 3,
   "id": "04b7bab1-a6f2-4ed9-bb4c-d3b206540d81",
   "metadata": {},
   "outputs": [],
   "source": [
    "file = pathlib.Path(\"example.bam\")\n",
    "region = (\"chr1\", 1, 8_000_000)"
   ]
  },
  {
   "cell_type": "code",
   "execution_count": 4,
   "id": "794be242-230a-4f08-a360-9ca5d7d9d833",
   "metadata": {},
   "outputs": [
    {
     "name": "stdout",
     "output_type": "stream",
     "text": [
      "2.08 s ± 26.1 ms per loop (mean ± std. dev. of 7 runs, 1 loop each)\n"
     ]
    }
   ],
   "source": [
    "%timeit pysam_run(file, *region)"
   ]
  },
  {
   "cell_type": "code",
   "execution_count": 5,
   "id": "6411a04d-bf15-4647-97c4-0d10b5dbf173",
   "metadata": {},
   "outputs": [
    {
     "name": "stdout",
     "output_type": "stream",
     "text": [
      "1.2 s ± 19.3 ms per loop (mean ± std. dev. of 7 runs, 1 loop each)\n"
     ]
    }
   ],
   "source": [
    "%timeit oxbow_polars(file, *region)"
   ]
  },
  {
   "cell_type": "code",
   "execution_count": 6,
   "id": "8484204a-5fc9-46a4-b730-9e90dd57aedb",
   "metadata": {},
   "outputs": [
    {
     "name": "stdout",
     "output_type": "stream",
     "text": [
      "1.24 s ± 37.7 ms per loop (mean ± std. dev. of 7 runs, 1 loop each)\n"
     ]
    }
   ],
   "source": [
    "%timeit oxbow_pandas(file, *region)"
   ]
  }
 ],
 "metadata": {
  "kernelspec": {
   "display_name": "Python 3 (ipykernel)",
   "language": "python",
   "name": "python3"
  },
  "language_info": {
   "codemirror_mode": {
    "name": "ipython",
    "version": 3
   },
   "file_extension": ".py",
   "mimetype": "text/x-python",
   "name": "python",
   "nbconvert_exporter": "python",
   "pygments_lexer": "ipython3",
   "version": "3.11.3"
  }
 },
 "nbformat": 4,
 "nbformat_minor": 5
}