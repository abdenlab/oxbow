{
 "cells": [
  {
   "cell_type": "code",
   "execution_count": 1,
   "metadata": {
    "collapsed": true,
    "ExecuteTime": {
     "end_time": "2023-07-28T21:25:36.359358488Z",
     "start_time": "2023-07-28T21:25:36.343676929Z"
    }
   },
   "outputs": [],
   "source": [
    "import oxbow as ox\n",
    "import polars as pl\n",
    "\n",
    "vcf_path = \"../../fixtures/ALL.chrY.phase3_integrated_v1a.20130502.genotypes.vcf.gz\""
   ]
  },
  {
   "cell_type": "code",
   "execution_count": 2,
   "outputs": [
    {
     "data": {
      "text/plain": "[(0, 17799),\n (1011683, 45288),\n (2151905, 38743),\n (3152162, 51362),\n (4161902, 27635),\n (5226885, 50277),\n (5837934, 0)]"
     },
     "execution_count": 2,
     "metadata": {},
     "output_type": "execute_result"
    }
   ],
   "source": [
    "chunk_size = 1_000_000\n",
    "partitions = ox.partition_from_index_file(vcf_path+\".tbi\", chunk_size)\n",
    "partitions"
   ],
   "metadata": {
    "collapsed": false,
    "ExecuteTime": {
     "end_time": "2023-07-28T21:25:36.364251095Z",
     "start_time": "2023-07-28T21:25:36.344809900Z"
    }
   }
  },
  {
   "cell_type": "code",
   "execution_count": 3,
   "outputs": [
    {
     "data": {
      "text/plain": "(62042, 9)"
     },
     "execution_count": 3,
     "metadata": {},
     "output_type": "execute_result"
    }
   ],
   "source": [
    "ipc = ox.read_vcf_vpos(vcf_path, partitions[0], partitions[-1])\n",
    "df = pl.read_ipc(ipc)\n",
    "df.shape"
   ],
   "metadata": {
    "collapsed": false,
    "ExecuteTime": {
     "end_time": "2023-07-28T21:25:47.859944295Z",
     "start_time": "2023-07-28T21:25:47.858574751Z"
    }
   }
  },
  {
   "cell_type": "code",
   "execution_count": 4,
   "outputs": [
    {
     "data": {
      "text/plain": "(62042, 9)"
     },
     "execution_count": 4,
     "metadata": {},
     "output_type": "execute_result"
    }
   ],
   "source": [
    "y_ipc = ox.read_vcf(vcf_path, \"Y\")\n",
    "y_df = pl.read_ipc(y_ipc)\n",
    "y_df.shape"
   ],
   "metadata": {
    "collapsed": false,
    "ExecuteTime": {
     "end_time": "2023-07-28T21:25:59.636407396Z",
     "start_time": "2023-07-28T21:25:47.861342030Z"
    }
   }
  },
  {
   "cell_type": "code",
   "execution_count": 5,
   "outputs": [],
   "source": [
    "# Check if the number of records for the entire range (via vpos) is equal to the total number of records when reading the whole vcf file\n",
    "assert df.shape == y_df.shape"
   ],
   "metadata": {
    "collapsed": false,
    "ExecuteTime": {
     "end_time": "2023-07-28T21:25:59.641174397Z",
     "start_time": "2023-07-28T21:25:59.637062995Z"
    }
   }
  },
  {
   "cell_type": "code",
   "execution_count": 6,
   "outputs": [],
   "source": [
    "# Check if the cumulative length of the partitions equals the total number of records when reading the whole vcf file\n",
    "cum_sum = 0\n",
    "for p1, p2 in zip(partitions[:-1], partitions[1:]):\n",
    "    p_ipc = ox.read_vcf_vpos(vcf_path, p1, p2)\n",
    "    p_df = pl.read_ipc(p_ipc)\n",
    "    cum_sum += p_df.shape[0]\n",
    "assert cum_sum == df.shape[0]"
   ],
   "metadata": {
    "collapsed": false,
    "ExecuteTime": {
     "end_time": "2023-07-28T21:26:11.365620948Z",
     "start_time": "2023-07-28T21:26:06.475957443Z"
    }
   }
  },
  {
   "cell_type": "code",
   "execution_count": 7,
   "outputs": [
    {
     "name": "stdout",
     "output_type": "stream",
     "text": [
      "shape: (27_947, 9)\n",
      "┌───────┬──────────┬─────┬─────┬───┬───────┬────────┬───────────────────────────────────┬────────┐\n",
      "│ chrom ┆ pos      ┆ id  ┆ ref ┆ … ┆ qual  ┆ filter ┆ info                              ┆ format │\n",
      "│ ---   ┆ ---      ┆ --- ┆ --- ┆   ┆ ---   ┆ ---    ┆ ---                               ┆ ---    │\n",
      "│ cat   ┆ i32      ┆ str ┆ str ┆   ┆ f32   ┆ str    ┆ str                               ┆ str    │\n",
      "╞═══════╪══════════╪═════╪═════╪═══╪═══════╪════════╪═══════════════════════════════════╪════════╡\n",
      "│ Y     ┆ 8028497  ┆     ┆ G   ┆ … ┆ 100.0 ┆ PASS   ┆ AA=G;AC=1;AF=0.00081103;AN=1233;… ┆ GT     │\n",
      "│ Y     ┆ 8028609  ┆     ┆ T   ┆ … ┆ 100.0 ┆ PASS   ┆ AA=T;AC=1;AF=0.00081103;AN=1233;… ┆ GT     │\n",
      "│ Y     ┆ 8028736  ┆     ┆ A   ┆ … ┆ 100.0 ┆ PASS   ┆ AA=A;AC=1;AF=0.00081103;AN=1233;… ┆ GT     │\n",
      "│ Y     ┆ 8028804  ┆     ┆ A   ┆ … ┆ 100.0 ┆ PASS   ┆ AA=A;AC=61;AF=0.0494728;AN=1233;… ┆ GT     │\n",
      "│ …     ┆ …        ┆ …   ┆ …   ┆ … ┆ …     ┆ …      ┆ …                                 ┆ …      │\n",
      "│ Y     ┆ 17628718 ┆     ┆ T   ┆ … ┆ 100.0 ┆ PASS   ┆ AA=T;AC=1;AF=0.00081103;AN=1233;… ┆ GT     │\n",
      "│ Y     ┆ 17628774 ┆     ┆ T   ┆ … ┆ 100.0 ┆ PASS   ┆ AA=T;AC=1;AF=0.00081103;AN=1233;… ┆ GT     │\n",
      "│ Y     ┆ 17629007 ┆     ┆ T   ┆ … ┆ 100.0 ┆ PASS   ┆ AA=T;AC=1;AF=0.00081103;AN=1233;… ┆ GT     │\n",
      "│ Y     ┆ 17629059 ┆     ┆ T   ┆ … ┆ 100.0 ┆ PASS   ┆ AA=T;AC=4;AF=0.00324412;AN=1233;… ┆ GT     │\n",
      "└───────┴──────────┴─────┴─────┴───┴───────┴────────┴───────────────────────────────────┴────────┘\n",
      "(27947, 9)\n"
     ]
    }
   ],
   "source": [
    "test_ipc = ox.read_vcf_vpos(vcf_path, partitions[1], partitions[3])\n",
    "test_df = pl.read_ipc(test_ipc)\n",
    "print(test_df)\n",
    "print(test_df.shape)"
   ],
   "metadata": {
    "collapsed": false,
    "ExecuteTime": {
     "end_time": "2023-07-28T21:26:17.195595864Z",
     "start_time": "2023-07-28T21:26:11.362516537Z"
    }
   }
  },
  {
   "cell_type": "code",
   "execution_count": 8,
   "outputs": [
    {
     "name": "stdout",
     "output_type": "stream",
     "text": [
      "shape: (10_897, 9)\n",
      "┌───────┬──────────┬─────┬─────┬───┬───────┬────────┬───────────────────────────────────┬────────┐\n",
      "│ chrom ┆ pos      ┆ id  ┆ ref ┆ … ┆ qual  ┆ filter ┆ info                              ┆ format │\n",
      "│ ---   ┆ ---      ┆ --- ┆ --- ┆   ┆ ---   ┆ ---    ┆ ---                               ┆ ---    │\n",
      "│ cat   ┆ i32      ┆ str ┆ str ┆   ┆ f32   ┆ str    ┆ str                               ┆ str    │\n",
      "╞═══════╪══════════╪═════╪═════╪═══╪═══════╪════════╪═══════════════════════════════════╪════════╡\n",
      "│ Y     ┆ 17629604 ┆     ┆ G   ┆ … ┆ 100.0 ┆ PASS   ┆ AA=G;AC=1;AF=0.00081103;AN=1233;… ┆ GT     │\n",
      "│ Y     ┆ 17629712 ┆     ┆ C   ┆ … ┆ 100.0 ┆ PASS   ┆ AA=.;AC=2;AF=0.00162206;AN=1233;… ┆ GT     │\n",
      "│ Y     ┆ 17629724 ┆     ┆ C   ┆ … ┆ 100.0 ┆ PASS   ┆ AA=C;AC=1;AF=0.00081103;AN=1233;… ┆ GT     │\n",
      "│ Y     ┆ 17629865 ┆     ┆ G   ┆ … ┆ 100.0 ┆ PASS   ┆ AA=G;AC=1;AF=0.00081103;AN=1233;… ┆ GT     │\n",
      "│ …     ┆ …        ┆ …   ┆ …   ┆ … ┆ …     ┆ …      ┆ …                                 ┆ …      │\n",
      "│ Y     ┆ 21282669 ┆     ┆ C   ┆ … ┆ 100.0 ┆ PASS   ┆ AA=C;AC=4;AF=0.00324412;AN=1233;… ┆ GT     │\n",
      "│ Y     ┆ 21282748 ┆     ┆ C   ┆ … ┆ 100.0 ┆ PASS   ┆ AA=C;AC=1;AF=0.00081103;AN=1233;… ┆ GT     │\n",
      "│ Y     ┆ 21282774 ┆     ┆ G   ┆ … ┆ 100.0 ┆ PASS   ┆ AA=G;AC=4;AF=0.00324412;AN=1233;… ┆ GT     │\n",
      "│ Y     ┆ 21282782 ┆     ┆ C   ┆ … ┆ 100.0 ┆ PASS   ┆ AA=C;AC=1;AF=0.00081103;AN=1233;… ┆ GT     │\n",
      "└───────┴──────────┴─────┴─────┴───┴───────┴────────┴───────────────────────────────────┴────────┘\n"
     ]
    }
   ],
   "source": [
    "test2_ipc = ox.read_vcf_vpos(vcf_path, partitions[3], partitions[4])\n",
    "test2_df = pl.read_ipc(test2_ipc)\n",
    "print(test2_df)"
   ],
   "metadata": {
    "collapsed": false,
    "ExecuteTime": {
     "end_time": "2023-07-28T21:26:19.279614900Z",
     "start_time": "2023-07-28T21:26:17.197183182Z"
    }
   }
  },
  {
   "cell_type": "code",
   "execution_count": 9,
   "outputs": [
    {
     "name": "stdout",
     "output_type": "stream",
     "text": [
      "(27947, 9)\n"
     ]
    },
    {
     "data": {
      "text/plain": "shape: (27_947, 9)\n┌───────┬──────────┬─────┬─────┬───┬───────┬────────┬───────────────────────────────────┬────────┐\n│ chrom ┆ pos      ┆ id  ┆ ref ┆ … ┆ qual  ┆ filter ┆ info                              ┆ format │\n│ ---   ┆ ---      ┆ --- ┆ --- ┆   ┆ ---   ┆ ---    ┆ ---                               ┆ ---    │\n│ cat   ┆ i32      ┆ str ┆ str ┆   ┆ f32   ┆ str    ┆ str                               ┆ str    │\n╞═══════╪══════════╪═════╪═════╪═══╪═══════╪════════╪═══════════════════════════════════╪════════╡\n│ Y     ┆ 8028497  ┆     ┆ G   ┆ … ┆ 100.0 ┆ PASS   ┆ AA=G;AC=1;AF=0.00081103;AN=1233;… ┆ GT     │\n│ Y     ┆ 8028609  ┆     ┆ T   ┆ … ┆ 100.0 ┆ PASS   ┆ AA=T;AC=1;AF=0.00081103;AN=1233;… ┆ GT     │\n│ Y     ┆ 8028736  ┆     ┆ A   ┆ … ┆ 100.0 ┆ PASS   ┆ AA=A;AC=1;AF=0.00081103;AN=1233;… ┆ GT     │\n│ Y     ┆ 8028804  ┆     ┆ A   ┆ … ┆ 100.0 ┆ PASS   ┆ AA=A;AC=61;AF=0.0494728;AN=1233;… ┆ GT     │\n│ …     ┆ …        ┆ …   ┆ …   ┆ … ┆ …     ┆ …      ┆ …                                 ┆ …      │\n│ Y     ┆ 17628718 ┆     ┆ T   ┆ … ┆ 100.0 ┆ PASS   ┆ AA=T;AC=1;AF=0.00081103;AN=1233;… ┆ GT     │\n│ Y     ┆ 17628774 ┆     ┆ T   ┆ … ┆ 100.0 ┆ PASS   ┆ AA=T;AC=1;AF=0.00081103;AN=1233;… ┆ GT     │\n│ Y     ┆ 17629007 ┆     ┆ T   ┆ … ┆ 100.0 ┆ PASS   ┆ AA=T;AC=1;AF=0.00081103;AN=1233;… ┆ GT     │\n│ Y     ┆ 17629059 ┆     ┆ T   ┆ … ┆ 100.0 ┆ PASS   ┆ AA=T;AC=4;AF=0.00324412;AN=1233;… ┆ GT     │\n└───────┴──────────┴─────┴─────┴───┴───────┴────────┴───────────────────────────────────┴────────┘",
      "text/html": "<div><style>\n.dataframe > thead > tr > th,\n.dataframe > tbody > tr > td {\n  text-align: right;\n}\n</style>\n<small>shape: (27_947, 9)</small><table border=\"1\" class=\"dataframe\"><thead><tr><th>chrom</th><th>pos</th><th>id</th><th>ref</th><th>alt</th><th>qual</th><th>filter</th><th>info</th><th>format</th></tr><tr><td>cat</td><td>i32</td><td>str</td><td>str</td><td>str</td><td>f32</td><td>str</td><td>str</td><td>str</td></tr></thead><tbody><tr><td>&quot;Y&quot;</td><td>8028497</td><td>&quot;&quot;</td><td>&quot;G&quot;</td><td>&quot;T&quot;</td><td>100.0</td><td>&quot;PASS&quot;</td><td>&quot;AA=G;AC=1;AF=0…</td><td>&quot;GT&quot;</td></tr><tr><td>&quot;Y&quot;</td><td>8028609</td><td>&quot;&quot;</td><td>&quot;T&quot;</td><td>&quot;C&quot;</td><td>100.0</td><td>&quot;PASS&quot;</td><td>&quot;AA=T;AC=1;AF=0…</td><td>&quot;GT&quot;</td></tr><tr><td>&quot;Y&quot;</td><td>8028736</td><td>&quot;&quot;</td><td>&quot;A&quot;</td><td>&quot;G&quot;</td><td>100.0</td><td>&quot;PASS&quot;</td><td>&quot;AA=A;AC=1;AF=0…</td><td>&quot;GT&quot;</td></tr><tr><td>&quot;Y&quot;</td><td>8028804</td><td>&quot;&quot;</td><td>&quot;A&quot;</td><td>&quot;AT&quot;</td><td>100.0</td><td>&quot;PASS&quot;</td><td>&quot;AA=A;AC=61;AF=…</td><td>&quot;GT&quot;</td></tr><tr><td>&quot;Y&quot;</td><td>8028896</td><td>&quot;rs373433249&quot;</td><td>&quot;C&quot;</td><td>&quot;T&quot;</td><td>100.0</td><td>&quot;PASS&quot;</td><td>&quot;AA=C;AC=35;AF=…</td><td>&quot;GT&quot;</td></tr><tr><td>&quot;Y&quot;</td><td>8028918</td><td>&quot;&quot;</td><td>&quot;T&quot;</td><td>&quot;A&quot;</td><td>100.0</td><td>&quot;PASS&quot;</td><td>&quot;AA=T;AC=1;AF=0…</td><td>&quot;GT&quot;</td></tr><tr><td>&quot;Y&quot;</td><td>8029480</td><td>&quot;&quot;</td><td>&quot;G&quot;</td><td>&quot;A&quot;</td><td>100.0</td><td>&quot;PASS&quot;</td><td>&quot;AA=G;AC=1;AF=0…</td><td>&quot;GT&quot;</td></tr><tr><td>&quot;Y&quot;</td><td>8029507</td><td>&quot;&quot;</td><td>&quot;A&quot;</td><td>&quot;G&quot;</td><td>100.0</td><td>&quot;PASS&quot;</td><td>&quot;AA=A;AC=1;AF=0…</td><td>&quot;GT&quot;</td></tr><tr><td>&quot;Y&quot;</td><td>8029914</td><td>&quot;&quot;</td><td>&quot;G&quot;</td><td>&quot;T&quot;</td><td>100.0</td><td>&quot;PASS&quot;</td><td>&quot;AA=G;AC=1;AF=0…</td><td>&quot;GT&quot;</td></tr><tr><td>&quot;Y&quot;</td><td>8030142</td><td>&quot;&quot;</td><td>&quot;C&quot;</td><td>&quot;T&quot;</td><td>100.0</td><td>&quot;PASS&quot;</td><td>&quot;AA=C;AC=2;AF=0…</td><td>&quot;GT&quot;</td></tr><tr><td>&quot;Y&quot;</td><td>8030599</td><td>&quot;&quot;</td><td>&quot;G&quot;</td><td>&quot;C&quot;</td><td>100.0</td><td>&quot;PASS&quot;</td><td>&quot;AA=G;AC=9;AF=0…</td><td>&quot;GT&quot;</td></tr><tr><td>&quot;Y&quot;</td><td>8031478</td><td>&quot;&quot;</td><td>&quot;A&quot;</td><td>&quot;C&quot;</td><td>100.0</td><td>&quot;PASS&quot;</td><td>&quot;AA=A;AC=3;AF=0…</td><td>&quot;GT&quot;</td></tr><tr><td>&hellip;</td><td>&hellip;</td><td>&hellip;</td><td>&hellip;</td><td>&hellip;</td><td>&hellip;</td><td>&hellip;</td><td>&hellip;</td><td>&hellip;</td></tr><tr><td>&quot;Y&quot;</td><td>17627523</td><td>&quot;rs373863154&quot;</td><td>&quot;C&quot;</td><td>&quot;G&quot;</td><td>100.0</td><td>&quot;PASS&quot;</td><td>&quot;AA=C;AC=1;AF=0…</td><td>&quot;GT&quot;</td></tr><tr><td>&quot;Y&quot;</td><td>17627898</td><td>&quot;&quot;</td><td>&quot;C&quot;</td><td>&quot;G&quot;</td><td>100.0</td><td>&quot;PASS&quot;</td><td>&quot;AA=C;AC=3;AF=0…</td><td>&quot;GT&quot;</td></tr><tr><td>&quot;Y&quot;</td><td>17627932</td><td>&quot;&quot;</td><td>&quot;T&quot;</td><td>&quot;C&quot;</td><td>100.0</td><td>&quot;PASS&quot;</td><td>&quot;AA=T;AC=1;AF=0…</td><td>&quot;GT&quot;</td></tr><tr><td>&quot;Y&quot;</td><td>17628128</td><td>&quot;&quot;</td><td>&quot;T&quot;</td><td>&quot;C&quot;</td><td>100.0</td><td>&quot;PASS&quot;</td><td>&quot;AA=T;AC=1;AF=0…</td><td>&quot;GT&quot;</td></tr><tr><td>&quot;Y&quot;</td><td>17628156</td><td>&quot;&quot;</td><td>&quot;A&quot;</td><td>&quot;G&quot;</td><td>100.0</td><td>&quot;PASS&quot;</td><td>&quot;AA=.;AC=2;AF=0…</td><td>&quot;GT&quot;</td></tr><tr><td>&quot;Y&quot;</td><td>17628282</td><td>&quot;&quot;</td><td>&quot;G&quot;</td><td>&quot;A&quot;</td><td>100.0</td><td>&quot;PASS&quot;</td><td>&quot;AA=G;AC=4;AF=0…</td><td>&quot;GT&quot;</td></tr><tr><td>&quot;Y&quot;</td><td>17628633</td><td>&quot;&quot;</td><td>&quot;C&quot;</td><td>&quot;A&quot;</td><td>100.0</td><td>&quot;PASS&quot;</td><td>&quot;AA=C;AC=1;AF=0…</td><td>&quot;GT&quot;</td></tr><tr><td>&quot;Y&quot;</td><td>17628664</td><td>&quot;&quot;</td><td>&quot;C&quot;</td><td>&quot;G&quot;</td><td>100.0</td><td>&quot;PASS&quot;</td><td>&quot;AA=C;AC=4;AF=0…</td><td>&quot;GT&quot;</td></tr><tr><td>&quot;Y&quot;</td><td>17628718</td><td>&quot;&quot;</td><td>&quot;T&quot;</td><td>&quot;A&quot;</td><td>100.0</td><td>&quot;PASS&quot;</td><td>&quot;AA=T;AC=1;AF=0…</td><td>&quot;GT&quot;</td></tr><tr><td>&quot;Y&quot;</td><td>17628774</td><td>&quot;&quot;</td><td>&quot;T&quot;</td><td>&quot;C&quot;</td><td>100.0</td><td>&quot;PASS&quot;</td><td>&quot;AA=T;AC=1;AF=0…</td><td>&quot;GT&quot;</td></tr><tr><td>&quot;Y&quot;</td><td>17629007</td><td>&quot;&quot;</td><td>&quot;T&quot;</td><td>&quot;C&quot;</td><td>100.0</td><td>&quot;PASS&quot;</td><td>&quot;AA=T;AC=1;AF=0…</td><td>&quot;GT&quot;</td></tr><tr><td>&quot;Y&quot;</td><td>17629059</td><td>&quot;&quot;</td><td>&quot;T&quot;</td><td>&quot;C&quot;</td><td>100.0</td><td>&quot;PASS&quot;</td><td>&quot;AA=T;AC=4;AF=0…</td><td>&quot;GT&quot;</td></tr></tbody></table></div>"
     },
     "execution_count": 9,
     "metadata": {},
     "output_type": "execute_result"
    }
   ],
   "source": [
    "foo_ipc = ox.read_vcf(vcf_path, \"Y:8028497-17629059\")\n",
    "foo_df = pl.read_ipc(foo_ipc)\n",
    "print(foo_df.shape)\n",
    "foo_df"
   ],
   "metadata": {
    "collapsed": false,
    "ExecuteTime": {
     "end_time": "2023-07-28T21:26:24.429722230Z",
     "start_time": "2023-07-28T21:26:19.281207101Z"
    }
   }
  }
 ],
 "metadata": {
  "kernelspec": {
   "display_name": "Python 3",
   "language": "python",
   "name": "python3"
  },
  "language_info": {
   "codemirror_mode": {
    "name": "ipython",
    "version": 2
   },
   "file_extension": ".py",
   "mimetype": "text/x-python",
   "name": "python",
   "nbconvert_exporter": "python",
   "pygments_lexer": "ipython2",
   "version": "2.7.6"
  }
 },
 "nbformat": 4,
 "nbformat_minor": 0
}
